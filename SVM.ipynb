{
 "cells": [
  {
   "cell_type": "code",
   "execution_count": 1,
   "metadata": {},
   "outputs": [
    {
     "name": "stdout",
     "output_type": "stream",
     "text": [
      "3.7.4 (default, Aug 13 2019, 20:35:49) \n",
      "[GCC 7.3.0]\n"
     ]
    }
   ],
   "source": [
    "import sys\n",
    "print(sys.version)"
   ]
  },
  {
   "cell_type": "code",
   "execution_count": 2,
   "metadata": {},
   "outputs": [],
   "source": [
    "import pandas as pd\n",
    "import math\n",
    "import numpy as np\n",
    "import seaborn as sns\n",
    "from scipy import stats as ss\n",
    "import matplotlib.pyplot as plt\n",
    "%matplotlib inline\n",
    "from sklearn.metrics import accuracy_score\n",
    "from sklearn.neural_network import BernoulliRBM\n",
    "from sklearn.svm import SVC\n",
    "from sklearn.naive_bayes import GaussianNB\n",
    "from sklearn import neighbors\n",
    "from sklearn.tree import DecisionTreeClassifier\n",
    "from sklearn.ensemble import RandomForestClassifier \n",
    "\n",
    "\n",
    "\n",
    "LEVERAGE = 1\n",
    "from pandas_datareader import data as pdr\n",
    "\n",
    "plt.rcParams['figure.figsize']  = (18, 10)\n",
    "plt.rcParams['axes.labelsize']  = 20\n",
    "plt.rcParams['axes.titlesize']  = 20\n",
    "plt.rcParams['legend.fontsize'] = 20\n",
    "plt.rcParams['xtick.labelsize'] = 20\n",
    "plt.rcParams['ytick.labelsize'] = 20\n",
    "plt.rcParams['lines.linewidth'] = 4"
   ]
  },
  {
   "cell_type": "code",
   "execution_count": 3,
   "metadata": {},
   "outputs": [],
   "source": [
    "def change_dataFrame(df,name):\n",
    "    datas = []\n",
    "    horas = []\n",
    "    dias = []\n",
    "    meses = []\n",
    "    hora = []\n",
    "    minuto = []\n",
    "    \n",
    "    for i in df[name]:\n",
    "        i=i.split()\n",
    "        datas.append(i[0])\n",
    "        horas.append(i[1])\n",
    "    for i in range(len(datas)):\n",
    "        datas[i] = datas[i].split(\".\")\n",
    "        dias.append(datas[i][0])\n",
    "        meses.append(datas[i][1])\n",
    "        horas[i] = horas[i].split(\":\")\n",
    "        hora.append(horas[i][0])\n",
    "        minuto.append(horas[i][1])\n",
    "    df = df.drop(['Local time'],axis=1)\n",
    "    df['Dia'] = pd.Series(dias,df.index)\n",
    "    df['Mes'] = pd.Series(meses,df.index)\n",
    "    df['Hora'] = pd.Series(hora,df.index)\n",
    "    df['Minuto'] = pd.Series(minuto,df.index)\n",
    "    \n",
    "    return df\n",
    "        "
   ]
  },
  {
   "cell_type": "code",
   "execution_count": 4,
   "metadata": {},
   "outputs": [],
   "source": [
    "df = pd.read_csv('2019.csv')\n",
    "df = change_dataFrame(df,'Local time')\n",
    "#df=df[df['Mes']==\"03\"]\n",
    "df = df.dropna()\n",
    "df = df[['Open','High','Low','Close']]"
   ]
  },
  {
   "cell_type": "code",
   "execution_count": 5,
   "metadata": {},
   "outputs": [],
   "source": [
    "df['Open-Close'] = df['Open']-df['Close']\n",
    "df['High-Low'] = df['High']-df['Low']\n",
    "df = df.dropna()\n",
    "df = df[df['Open-Close'] != df['High-Low']]\n",
    "X = df[['Open-Close','High-Low']]"
   ]
  },
  {
   "cell_type": "code",
   "execution_count": 6,
   "metadata": {},
   "outputs": [],
   "source": [
    "Y = np.where(df['Close'].shift(-1) > df['Close'],1,-1)"
   ]
  },
  {
   "cell_type": "code",
   "execution_count": 7,
   "metadata": {},
   "outputs": [],
   "source": [
    "split_percentage=0.7\n",
    "split = int(split_percentage*len(df))\n",
    "X_train = X[:split]\n",
    "Y_train = Y[:split]\n",
    "\n",
    "X_test = X[split:]\n",
    "Y_test = Y[split:]"
   ]
  },
  {
   "cell_type": "code",
   "execution_count": 8,
   "metadata": {},
   "outputs": [
    {
     "data": {
      "text/plain": [
       "SVC(C=1.0, cache_size=200, class_weight=None, coef0=0.0,\n",
       "    decision_function_shape='ovr', degree=3, gamma='scale', kernel='rbf',\n",
       "    max_iter=-1, probability=False, random_state=None, shrinking=True,\n",
       "    tol=0.001, verbose=False)"
      ]
     },
     "execution_count": 8,
     "metadata": {},
     "output_type": "execute_result"
    }
   ],
   "source": [
    "Qtde_Interacao2 = 20\n",
    "kernelSVM = 'linear' #'rbf'\n",
    "rs = 2\n",
    "gammaSVM = 0.3\n",
    "clf = SVC(gamma='scale')\n",
    "clf.fit(X_train,Y_train)"
   ]
  },
  {
   "cell_type": "code",
   "execution_count": 9,
   "metadata": {},
   "outputs": [],
   "source": [
    "accuracy_train = accuracy_score(Y_train,clf.predict(X_train))\n",
    "accuracy_test = accuracy_score(Y_test,clf.predict(X_test))"
   ]
  },
  {
   "cell_type": "code",
   "execution_count": 10,
   "metadata": {},
   "outputs": [
    {
     "name": "stdout",
     "output_type": "stream",
     "text": [
      "0.5439226960549433\n"
     ]
    }
   ],
   "source": [
    "print(accuracy_train)"
   ]
  },
  {
   "cell_type": "code",
   "execution_count": 11,
   "metadata": {},
   "outputs": [
    {
     "name": "stdout",
     "output_type": "stream",
     "text": [
      "0.5415729439793433\n"
     ]
    }
   ],
   "source": [
    "print(accuracy_test)"
   ]
  },
  {
   "cell_type": "code",
   "execution_count": null,
   "metadata": {},
   "outputs": [],
   "source": [
    "df['Predicted_Signal'] = clf.predict(X)\n",
    "\n",
    "#cumulative returns\n",
    "LOG= ((df['Close'] / df['Close'].shift(1)-1)*LEVERAGE)+1\n",
    "df['Real_Returns'] = np.log(LOG)\n",
    "Cumulative_returns = df[split:]['Real_Returns'].cumsum()*100\n",
    "\n",
    "#retornos acumulados da estratégia\n",
    "\n",
    "df['Strategy_Returns'] = df['Real_Returns'] * df['Predicted_Signal'].shift(1)\n",
    "Cum_Strategy_Returns = df[split:]['Strategy_Returns'].cumsum()*100\n",
    "\n",
    "#Plotando os resultados \n",
    "\n",
    "\n",
    "plt.figure(figsize=(20,10))\n",
    "plt.plot(Cumulative_returns,color='r',label='Real Returns')\n",
    "plt.plot(Cum_Strategy_Returns,color='g',label='Strategy Returns')\n",
    "\n",
    "plt.xlabel('tempo (m)')\n",
    "plt.ylabel('ganho (%)')\n",
    "\n",
    "plt.legend()\n",
    "plt.show()"
   ]
  },
  {
   "cell_type": "code",
   "execution_count": 13,
   "metadata": {},
   "outputs": [
    {
     "name": "stdout",
     "output_type": "stream",
     "text": [
      "Sharpe ratio: 2.52\n"
     ]
    }
   ],
   "source": [
    "#sharpe ratio acumulado\n",
    "\n",
    "Std = Cum_Strategy_Returns.std()\n",
    "Sharpe = (Cum_Strategy_Returns-Cumulative_returns)/Std\n",
    "Sharpe = Sharpe.mean()\n",
    "print('Sharpe ratio: %.2f'%Sharpe)"
   ]
  },
  {
   "cell_type": "code",
   "execution_count": 14,
   "metadata": {},
   "outputs": [
    {
     "name": "stdout",
     "output_type": "stream",
     "text": [
      "1.0643560064991608\n"
     ]
    }
   ],
   "source": [
    "print(np.exp(df[split:]['Strategy_Returns'].sum()))"
   ]
  },
  {
   "cell_type": "code",
   "execution_count": null,
   "metadata": {},
   "outputs": [],
   "source": []
  }
 ],
 "metadata": {
  "kernelspec": {
   "display_name": "Python 3",
   "language": "python",
   "name": "python3"
  },
  "language_info": {
   "codemirror_mode": {
    "name": "ipython",
    "version": 3
   },
   "file_extension": ".py",
   "mimetype": "text/x-python",
   "name": "python",
   "nbconvert_exporter": "python",
   "pygments_lexer": "ipython3",
   "version": "3.7.4"
  }
 },
 "nbformat": 4,
 "nbformat_minor": 2
}